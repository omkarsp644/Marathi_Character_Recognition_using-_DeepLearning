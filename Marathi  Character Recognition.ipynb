{
 "cells": [
  {
   "cell_type": "code",
   "execution_count": 1,
   "metadata": {},
   "outputs": [],
   "source": [
    "import numpy as np\n",
    "import glob\n",
    "import os"
   ]
  },
  {
   "cell_type": "markdown",
   "metadata": {},
   "source": [
    "# CREATING DATASET\n",
    "+ ## DATASET"
   ]
  },
  {
   "cell_type": "code",
   "execution_count": 2,
   "metadata": {},
   "outputs": [],
   "source": [
    "TEST_DATA=\"F:/MARATHI CHARECTORPROJECTMINI/DATASET/TEST/\"\n",
    "TRAIN_DATA=\"F:/MARATHI CHARECTORPROJECTMINI/DATASET/TR/\"\n",
    "DATA=\"F:/MARATHI CHARECTORPROJECTMINI/DATASET/\"\n"
   ]
  },
  {
   "cell_type": "code",
   "execution_count": 3,
   "metadata": {},
   "outputs": [],
   "source": [
    "FOLDERS=os.listdir(DATA)\n",
    "IMAGES=[]\n",
    "LABELS=[]\n",
    "import cv2\n",
    "count=0\n",
    "labels=[]\n",
    "labels_name=[]"
   ]
  },
  {
   "cell_type": "code",
   "execution_count": 4,
   "metadata": {},
   "outputs": [
    {
     "name": "stdout",
     "output_type": "stream",
     "text": [
      "No Of Classes 36\n"
     ]
    }
   ],
   "source": [
    "for i in os.listdir(DATA):\n",
    "    p=os.path.join(DATA,i)\n",
    "    io=int(i)\n",
    "    labels.append(io)\n",
    "    labels_name.append(i)\n",
    "    for j in os.listdir(p):\n",
    "        pat=os.path.join(p,j)\n",
    "        img=cv2.imread(pat)\n",
    "        IMAGES.append(img)\n",
    "        LABELS.append(io)\n",
    "NoOfClasses=len(labels)\n",
    "print(\"No Of Classes {}\".format(NoOfClasses))\n"
   ]
  },
  {
   "cell_type": "code",
   "execution_count": 5,
   "metadata": {},
   "outputs": [
    {
     "name": "stdout",
     "output_type": "stream",
     "text": [
      "52611\n",
      "52611\n"
     ]
    }
   ],
   "source": [
    "print(len(LABELS))\n",
    "print(len(IMAGES))"
   ]
  },
  {
   "cell_type": "code",
   "execution_count": 6,
   "metadata": {},
   "outputs": [
    {
     "name": "stdout",
     "output_type": "stream",
     "text": [
      "Current Image Dataset Have Size 52611 and Current Labels Have Size 52611\n"
     ]
    }
   ],
   "source": [
    "print(\"Current Image Dataset Have Size {} and Current Labels Have Size {}\".format(len(IMAGES),len(LABELS)))"
   ]
  },
  {
   "cell_type": "markdown",
   "metadata": {},
   "source": [
    "+ ### CREATING ARRAY OF LISTS OF TRAINING DATA"
   ]
  },
  {
   "cell_type": "code",
   "execution_count": 7,
   "metadata": {},
   "outputs": [
    {
     "name": "stdout",
     "output_type": "stream",
     "text": [
      " Current Training Image Dataset Size Is (52611, 28, 28, 3)\n"
     ]
    }
   ],
   "source": [
    "IMAGES=np.array(IMAGES)\n",
    "print(\" Current Training Image Dataset Size Is {}\".format(IMAGES.shape))"
   ]
  },
  {
   "cell_type": "code",
   "execution_count": 8,
   "metadata": {},
   "outputs": [
    {
     "name": "stdout",
     "output_type": "stream",
     "text": [
      " Current Training Image Label Dataset Size Is (52611,)\n"
     ]
    }
   ],
   "source": [
    "LABELS=np.array(LABELS)\n",
    "print(\" Current Training Image Label Dataset Size Is {}\".format(LABELS.shape))"
   ]
  },
  {
   "cell_type": "code",
   "execution_count": 9,
   "metadata": {},
   "outputs": [],
   "source": [
    "from sklearn.model_selection import train_test_split"
   ]
  },
  {
   "cell_type": "markdown",
   "metadata": {},
   "source": [
    "# Splitting Data"
   ]
  },
  {
   "cell_type": "code",
   "execution_count": 10,
   "metadata": {},
   "outputs": [],
   "source": [
    "X_train,X_test,Y_train,Y_test=train_test_split(IMAGES,LABELS,test_size=0.2)"
   ]
  },
  {
   "cell_type": "code",
   "execution_count": 11,
   "metadata": {},
   "outputs": [
    {
     "name": "stdout",
     "output_type": "stream",
     "text": [
      " We Have (42088, 28, 28, 3) Training Images and (42088,) Training Labels \n"
     ]
    }
   ],
   "source": [
    "print(\" We Have {} Training Images and {} Training Labels \".format(X_train.shape,Y_train.shape))"
   ]
  },
  {
   "cell_type": "code",
   "execution_count": 12,
   "metadata": {},
   "outputs": [
    {
     "name": "stdout",
     "output_type": "stream",
     "text": [
      " We Have (10523, 28, 28, 3) Testing Images and (10523,) Testing Labels \n"
     ]
    }
   ],
   "source": [
    "print(\" We Have {} Testing Images and {} Testing Labels \".format(X_test.shape,Y_test.shape))"
   ]
  },
  {
   "cell_type": "markdown",
   "metadata": {},
   "source": [
    "# CREATING VALIDATION DATASET"
   ]
  },
  {
   "cell_type": "code",
   "execution_count": 13,
   "metadata": {},
   "outputs": [],
   "source": [
    "X_train,X_validation,Y_train,Y_validation=train_test_split(X_train,Y_train,test_size=0.2)"
   ]
  },
  {
   "cell_type": "code",
   "execution_count": 14,
   "metadata": {},
   "outputs": [
    {
     "name": "stdout",
     "output_type": "stream",
     "text": [
      "we Have (33670, 28, 28, 3) Training Images\n",
      "we Have (10523, 28, 28, 3) Testing Images\n",
      "we Have (8418, 28, 28, 3) Validation Images\n"
     ]
    }
   ],
   "source": [
    "print(\"we Have {} Training Images\".format(X_train.shape))\n",
    "print(\"we Have {} Testing Images\".format(X_test.shape))\n",
    "print(\"we Have {} Validation Images\".format(X_validation.shape))"
   ]
  },
  {
   "cell_type": "code",
   "execution_count": 15,
   "metadata": {},
   "outputs": [
    {
     "data": {
      "text/plain": [
       "33670"
      ]
     },
     "execution_count": 15,
     "metadata": {},
     "output_type": "execute_result"
    }
   ],
   "source": [
    "len(Y_train)"
   ]
  },
  {
   "cell_type": "markdown",
   "metadata": {},
   "source": [
    "# VISUALIZATION OF DATA DISTRIBUTION"
   ]
  },
  {
   "cell_type": "code",
   "execution_count": 16,
   "metadata": {},
   "outputs": [
    {
     "data": {
      "text/plain": [
       "array([23,  8, 12, ..., 33, 16, 25])"
      ]
     },
     "execution_count": 16,
     "metadata": {},
     "output_type": "execute_result"
    }
   ],
   "source": [
    "NO_OF_SAMPLES=[]\n",
    "for i in labels:\n",
    "    NO_OF_SAMPLES.append(len(np.where(Y_train==i)[0]))\n",
    "Y_train"
   ]
  },
  {
   "cell_type": "code",
   "execution_count": 17,
   "metadata": {},
   "outputs": [
    {
     "name": "stdout",
     "output_type": "stream",
     "text": [
      " Data 0   Have    944   Samples \n",
      " Data 1   Have    876   Samples \n",
      " Data 10   Have    928   Samples \n",
      " Data 11   Have    1048   Samples \n",
      " Data 12   Have    904   Samples \n",
      " Data 13   Have    948   Samples \n",
      " Data 14   Have    910   Samples \n",
      " Data 15   Have    888   Samples \n",
      " Data 16   Have    916   Samples \n",
      " Data 17   Have    924   Samples \n",
      " Data 18   Have    1170   Samples \n",
      " Data 19   Have    988   Samples \n",
      " Data 2   Have    956   Samples \n",
      " Data 20   Have    946   Samples \n",
      " Data 21   Have    918   Samples \n",
      " Data 22   Have    899   Samples \n",
      " Data 23   Have    933   Samples \n",
      " Data 24   Have    936   Samples \n",
      " Data 25   Have    936   Samples \n",
      " Data 26   Have    924   Samples \n",
      " Data 27   Have    922   Samples \n",
      " Data 28   Have    916   Samples \n",
      " Data 29   Have    908   Samples \n",
      " Data 3   Have    900   Samples \n",
      " Data 30   Have    917   Samples \n",
      " Data 31   Have    1102   Samples \n",
      " Data 32   Have    862   Samples \n",
      " Data 33   Have    912   Samples \n",
      " Data 34   Have    903   Samples \n",
      " Data 35   Have    919   Samples \n",
      " Data 4   Have    918   Samples \n",
      " Data 5   Have    941   Samples \n",
      " Data 6   Have    932   Samples \n",
      " Data 7   Have    940   Samples \n",
      " Data 8   Have    921   Samples \n",
      " Data 9   Have    865   Samples \n"
     ]
    }
   ],
   "source": [
    "for i in range(len(labels)):\n",
    "    print(\" Data {}   Have    {}   Samples \".format(labels[i],NO_OF_SAMPLES[i]))"
   ]
  },
  {
   "cell_type": "code",
   "execution_count": 18,
   "metadata": {},
   "outputs": [],
   "source": [
    "import matplotlib.pyplot as plt"
   ]
  },
  {
   "cell_type": "code",
   "execution_count": 19,
   "metadata": {},
   "outputs": [
    {
     "data": {
      "image/png": "[encoded data removed]",
      "text/plain": [
       "<Figure size 2160x1440 with 1 Axes>"
      ]
     },
     "metadata": {
      "needs_background": "light"
     },
     "output_type": "display_data"
    }
   ],
   "source": [
    "plt.figure(figsize=(30,20))\n",
    "plt.bar(labels,NO_OF_SAMPLES)\n",
    "plt.title(\"No Of Images For Each Class\")\n",
    "plt.xlabel(\"Class id\")\n",
    "plt.ylabel(\"No Of Samples\")\n",
    "plt.show()"
   ]
  },
  {
   "cell_type": "code",
   "execution_count": null,
   "metadata": {},
   "outputs": [],
   "source": []
  },
  {
   "cell_type": "markdown",
   "metadata": {},
   "source": [
    "# PREPROCESSING THE IMAGE DATA"
   ]
  },
  {
   "cell_type": "code",
   "execution_count": 20,
   "metadata": {},
   "outputs": [],
   "source": [
    "def PreProcessing(img):\n",
    "    img=cv2.cvtColor(img,cv2.COLOR_BGR2GRAY)\n",
    "    img=cv2.equalizeHist(img)\n",
    "    img=img/255\n",
    "    return img"
   ]
  },
  {
   "cell_type": "markdown",
   "metadata": {},
   "source": [
    "### NOW APPLYING TO IMAGE ARRAYS"
   ]
  },
  {
   "cell_type": "code",
   "execution_count": 21,
   "metadata": {},
   "outputs": [],
   "source": [
    "X_train=np.array(list(map(PreProcessing,X_train)))"
   ]
  },
  {
   "cell_type": "code",
   "execution_count": 22,
   "metadata": {},
   "outputs": [
    {
     "data": {
      "text/plain": [
       "(33670, 28, 28)"
      ]
     },
     "execution_count": 22,
     "metadata": {},
     "output_type": "execute_result"
    }
   ],
   "source": [
    "X_train.shape"
   ]
  },
  {
   "cell_type": "code",
   "execution_count": 23,
   "metadata": {},
   "outputs": [],
   "source": [
    "X_test=np.array(list(map(PreProcessing,X_test)))"
   ]
  },
  {
   "cell_type": "code",
   "execution_count": 24,
   "metadata": {},
   "outputs": [
    {
     "data": {
      "text/plain": [
       "(10523, 28, 28)"
      ]
     },
     "execution_count": 24,
     "metadata": {},
     "output_type": "execute_result"
    }
   ],
   "source": [
    "X_test.shape"
   ]
  },
  {
   "cell_type": "code",
   "execution_count": 25,
   "metadata": {},
   "outputs": [],
   "source": [
    "X_validation=np.array(list(map(PreProcessing,X_validation)))"
   ]
  },
  {
   "cell_type": "code",
   "execution_count": 26,
   "metadata": {},
   "outputs": [
    {
     "data": {
      "text/plain": [
       "(8418, 28, 28)"
      ]
     },
     "execution_count": 26,
     "metadata": {},
     "output_type": "execute_result"
    }
   ],
   "source": [
    "X_validation.shape"
   ]
  },
  {
   "cell_type": "code",
   "execution_count": 27,
   "metadata": {},
   "outputs": [],
   "source": [
    "X_train=X_train.reshape(X_train.shape[0],X_train.shape[1],X_train.shape[2],1)\n",
    "X_test=X_test.reshape(X_test.shape[0],X_test.shape[1],X_test.shape[2],1)\n",
    "X_validation=X_validation.reshape(X_validation.shape[0],X_validation.shape[1],X_validation.shape[2],1)"
   ]
  },
  {
   "cell_type": "code",
   "execution_count": 28,
   "metadata": {},
   "outputs": [
    {
     "data": {
      "text/plain": [
       "(8418,)"
      ]
     },
     "execution_count": 28,
     "metadata": {},
     "output_type": "execute_result"
    }
   ],
   "source": [
    "Y_validation.shape"
   ]
  },
  {
   "cell_type": "code",
   "execution_count": 29,
   "metadata": {},
   "outputs": [
    {
     "name": "stderr",
     "output_type": "stream",
     "text": [
      "Using TensorFlow backend.\n"
     ]
    }
   ],
   "source": [
    "from keras.preprocessing.image import ImageDataGenerator"
   ]
  },
  {
   "cell_type": "markdown",
   "metadata": {},
   "source": [
    "# NOW WE ARE USING IMAGE DATA GENERATOR"
   ]
  },
  {
   "cell_type": "code",
   "execution_count": 30,
   "metadata": {},
   "outputs": [],
   "source": [
    "datagen=ImageDataGenerator(width_shift_range=0.1,\n",
    "                          height_shift_range=0.1,\n",
    "                              zoom_range=0.2,\n",
    "                          shear_range=0.1,\n",
    "                           rotation_range=20)"
   ]
  },
  {
   "cell_type": "code",
   "execution_count": 31,
   "metadata": {},
   "outputs": [],
   "source": [
    "datagen.fit(X_train)"
   ]
  },
  {
   "cell_type": "code",
   "execution_count": 32,
   "metadata": {},
   "outputs": [],
   "source": [
    "from keras.utils.np_utils import to_categorical"
   ]
  },
  {
   "cell_type": "code",
   "execution_count": 33,
   "metadata": {},
   "outputs": [],
   "source": [
    "Y_train=to_categorical(Y_train,num_classes=NoOfClasses)\n",
    "Y_test=to_categorical(Y_test,num_classes=NoOfClasses)\n",
    "Y_validation=to_categorical(Y_validation,num_classes=NoOfClasses)"
   ]
  },
  {
   "cell_type": "code",
   "execution_count": 34,
   "metadata": {},
   "outputs": [],
   "source": [
    "from keras.models import Sequential\n",
    "from keras.layers import Conv2D\n",
    "from keras.layers import MaxPooling2D\n",
    "from keras.layers import Dropout,Flatten,Dense\n",
    "from keras.optimizers import SGD, Adam"
   ]
  },
  {
   "cell_type": "code",
   "execution_count": 35,
   "metadata": {},
   "outputs": [],
   "source": [
    "def MyModel():\n",
    "    NoofFilters=60\n",
    "    SizeOfFilter1=(5,5)\n",
    "    SizeOfFilter2=(3,3)\n",
    "    sizeofpool=(2,2)\n",
    "    noofNodes=500\n",
    "    model=Sequential()\n",
    "    \n",
    "    model.add(Conv2D(NoofFilters,SizeOfFilter1,input_shape=(28,28,1)))\n",
    "    model.add(Conv2D(NoofFilters,SizeOfFilter1,activation='relu'))\n",
    "    model.add(MaxPooling2D(pool_size=sizeofpool))\n",
    "    \n",
    "    model.add(Conv2D(NoofFilters//2,SizeOfFilter2,activation='relu'))\n",
    "    model.add(Conv2D(NoofFilters//2,SizeOfFilter2,activation='relu'))\n",
    "    \n",
    "    model.add(MaxPooling2D(pool_size=sizeofpool))\n",
    "    model.add(Dropout(0.5))\n",
    "    \n",
    "    model.add(Flatten())\n",
    "    model.add(Dense(noofNodes,activation='relu'))\n",
    "    model.add(Dropout(0.5))\n",
    "    model.add(Dense(output_dim = NoOfClasses, activation = 'sigmoid'))\n",
    "    \n",
    "    model.compile(Adam(lr=0.001),loss='categorical_crossentropy',\n",
    "                  metrics=['accuracy'])\n",
    "    \n",
    "    return model"
   ]
  },
  {
   "cell_type": "code",
   "execution_count": 36,
   "metadata": {},
   "outputs": [
    {
     "name": "stderr",
     "output_type": "stream",
     "text": [
      "C:\\Users\\Hp\\AppData\\Roaming\\Python\\Python37\\site-packages\\ipykernel_launcher.py:22: UserWarning: Update your `Dense` call to the Keras 2 API: `Dense(activation=\"sigmoid\", units=36)`\n"
     ]
    }
   ],
   "source": [
    "model=MyModel()"
   ]
  },
  {
   "cell_type": "code",
   "execution_count": 37,
   "metadata": {},
   "outputs": [
    {
     "name": "stdout",
     "output_type": "stream",
     "text": [
      "Model: \"sequential_1\"\n",
      "_________________________________________________________________\n",
      "Layer (type)                 Output Shape              Param #   \n",
      "=================================================================\n",
      "conv2d_1 (Conv2D)            (None, 24, 24, 60)        1560      \n",
      "_________________________________________________________________\n",
      "conv2d_2 (Conv2D)            (None, 20, 20, 60)        90060     \n",
      "_________________________________________________________________\n",
      "max_pooling2d_1 (MaxPooling2 (None, 10, 10, 60)        0         \n",
      "_________________________________________________________________\n",
      "conv2d_3 (Conv2D)            (None, 8, 8, 30)          16230     \n",
      "_________________________________________________________________\n",
      "conv2d_4 (Conv2D)            (None, 6, 6, 30)          8130      \n",
      "_________________________________________________________________\n",
      "max_pooling2d_2 (MaxPooling2 (None, 3, 3, 30)          0         \n",
      "_________________________________________________________________\n",
      "dropout_1 (Dropout)          (None, 3, 3, 30)          0         \n",
      "_________________________________________________________________\n",
      "flatten_1 (Flatten)          (None, 270)               0         \n",
      "_________________________________________________________________\n",
      "dense_1 (Dense)              (None, 500)               135500    \n",
      "_________________________________________________________________\n",
      "dropout_2 (Dropout)          (None, 500)               0         \n",
      "_________________________________________________________________\n",
      "dense_2 (Dense)              (None, 36)                18036     \n",
      "=================================================================\n",
      "Total params: 269,516\n",
      "Trainable params: 269,516\n",
      "Non-trainable params: 0\n",
      "_________________________________________________________________\n",
      "None\n"
     ]
    }
   ],
   "source": [
    "print(model.summary())"
   ]
  },
  {
   "cell_type": "code",
   "execution_count": 38,
   "metadata": {},
   "outputs": [
    {
     "name": "stdout",
     "output_type": "stream",
     "text": [
      "(33670, 28, 28, 1)\n",
      "(33670, 36)\n",
      "(8418, 28, 28, 1)\n",
      "(8418, 36)\n",
      "Epoch 1/20\n",
      "674/674 [==============================] - 83s 123ms/step - loss: 2.6676 - accuracy: 0.2345 - val_loss: 1.1738 - val_accuracy: 0.6777\n",
      "Epoch 2/20\n",
      "674/674 [==============================] - 78s 116ms/step - loss: 1.6412 - accuracy: 0.4907 - val_loss: 0.7734 - val_accuracy: 0.7926\n",
      "Epoch 3/20\n",
      "674/674 [==============================] - 83s 123ms/step - loss: 1.3101 - accuracy: 0.5904 - val_loss: 0.5881 - val_accuracy: 0.8444\n",
      "Epoch 4/20\n",
      "674/674 [==============================] - 78s 115ms/step - loss: 1.1474 - accuracy: 0.6411 - val_loss: 0.4189 - val_accuracy: 0.8874\n",
      "Epoch 5/20\n",
      "674/674 [==============================] - 153s 227ms/step - loss: 1.0556 - accuracy: 0.6719 - val_loss: 0.3907 - val_accuracy: 0.8984\n",
      "Epoch 6/20\n",
      "674/674 [==============================] - 165s 244ms/step - loss: 0.9673 - accuracy: 0.6933 - val_loss: 0.3363 - val_accuracy: 0.9082\n",
      "Epoch 7/20\n",
      "674/674 [==============================] - 179s 266ms/step - loss: 0.9251 - accuracy: 0.7102 - val_loss: 0.3407 - val_accuracy: 0.9077\n",
      "Epoch 8/20\n",
      "674/674 [==============================] - 167s 248ms/step - loss: 0.8819 - accuracy: 0.7250 - val_loss: 0.3276 - val_accuracy: 0.9183\n",
      "Epoch 9/20\n",
      "674/674 [==============================] - 176s 262ms/step - loss: 0.8424 - accuracy: 0.7328 - val_loss: 0.2909 - val_accuracy: 0.9136\n",
      "Epoch 10/20\n",
      "674/674 [==============================] - 169s 250ms/step - loss: 0.8154 - accuracy: 0.7447 - val_loss: 0.2522 - val_accuracy: 0.9263\n",
      "Epoch 11/20\n",
      "674/674 [==============================] - 155s 229ms/step - loss: 0.8076 - accuracy: 0.7446 - val_loss: 0.2534 - val_accuracy: 0.9225\n",
      "Epoch 12/20\n",
      "674/674 [==============================] - 78s 116ms/step - loss: 0.7683 - accuracy: 0.7601 - val_loss: 0.2588 - val_accuracy: 0.9170\n",
      "Epoch 13/20\n",
      "674/674 [==============================] - 80s 119ms/step - loss: 0.7506 - accuracy: 0.7637 - val_loss: 0.2506 - val_accuracy: 0.9246\n",
      "Epoch 14/20\n",
      "674/674 [==============================] - 81s 119ms/step - loss: 0.7524 - accuracy: 0.7638 - val_loss: 0.2387 - val_accuracy: 0.9242\n",
      "Epoch 15/20\n",
      "674/674 [==============================] - 78s 115ms/step - loss: 0.7397 - accuracy: 0.7723 - val_loss: 0.2271 - val_accuracy: 0.9375\n",
      "Epoch 16/20\n",
      "674/674 [==============================] - 84s 125ms/step - loss: 0.7168 - accuracy: 0.7760 - val_loss: 0.2094 - val_accuracy: 0.9359\n",
      "Epoch 17/20\n",
      "674/674 [==============================] - 87s 130ms/step - loss: 0.7118 - accuracy: 0.7768 - val_loss: 0.2371 - val_accuracy: 0.9253\n",
      "Epoch 18/20\n",
      "674/674 [==============================] - 83s 123ms/step - loss: 0.6878 - accuracy: 0.7801 - val_loss: 0.2182 - val_accuracy: 0.9357\n",
      "Epoch 19/20\n",
      "674/674 [==============================] - 82s 121ms/step - loss: 0.6811 - accuracy: 0.7836 - val_loss: 0.2010 - val_accuracy: 0.9437\n",
      "Epoch 20/20\n",
      "674/674 [==============================] - 85s 127ms/step - loss: 0.6809 - accuracy: 0.7875 - val_loss: 0.2249 - val_accuracy: 0.9284\n"
     ]
    }
   ],
   "source": [
    "print(X_train.shape)\n",
    "print(Y_train.shape)\n",
    "print(X_validation.shape)\n",
    "print(Y_validation.shape)\n",
    "\n",
    "history=model.fit_generator(datagen.flow(X_train,Y_train,batch_size=50),\n",
    "                   epochs=20,validation_data=(X_validation,Y_validation))\n",
    "\n",
    "SAVE_PATH=\"F:/MARATHI CHARECTORPROJECTMINI/\""
   ]
  },
  {
   "cell_type": "code",
   "execution_count": 39,
   "metadata": {},
   "outputs": [
    {
     "data": {
      "image/png": "[encoded data removed]",
      "text/plain": [
       "<Figure size 432x288 with 1 Axes>"
      ]
     },
     "metadata": {
      "needs_background": "light"
     },
     "output_type": "display_data"
    },
    {
     "data": {
      "image/png": "[encoded data removed]",
      "text/plain": [
       "<Figure size 432x288 with 1 Axes>"
      ]
     },
     "metadata": {
      "needs_background": "light"
     },
     "output_type": "display_data"
    },
    {
     "name": "stdout",
     "output_type": "stream",
     "text": [
      "Test Score 0.22571099368347525\n",
      "Test Accuracy 0.9323387145996094\n"
     ]
    }
   ],
   "source": [
    "import tensorflow as tf\n",
    "from keras.models import load_model\n",
    "model.save(os.path.join(SAVE_PATH,\"HYPERPARAMETERIZED1_IMAGESIZE_28_MODEL3_DETECTION_DAY_31_05_2020.h5\"))\n",
    "\n",
    "\n",
    "plt.figure(1)\n",
    "plt.plot(history.history['loss'])\n",
    "plt.plot(history.history['val_loss'])\n",
    "plt.legend(['training','validation'])\n",
    "plt.title('loss')\n",
    "plt.xlabel('epoch')\n",
    "plt.savefig(os.path.join(SAVE_PATH,\"HYPERPARAMETERIZED1_HYPERPARAMETERIZED1_LOSS_MODEL3_DETECTION_DAY_31_05_2020\"))\n",
    "\n",
    "plt.figure(2)\n",
    "plt.plot(history.history['accuracy'])\n",
    "plt.plot(history.history['val_accuracy'])\n",
    "plt.legend(['training','validation'])\n",
    "plt.title('Accuracy')\n",
    "plt.xlabel('epoch')\n",
    "plt.savefig(os.path.join(SAVE_PATH,\"HYPERPARAMETERIZED1_ACCURACY_MODEL3_DETECTION_DAY_31_05_2020\"))\n",
    "plt.show()\n",
    "\n",
    "score=model.evaluate(X_test,Y_test,verbose=0)\n",
    "\n",
    "print(\"Test Score {}\".format(score[0]))\n",
    "print(\"Test Accuracy {}\".format(score[1]))"
   ]
  },
  {
   "cell_type": "code",
   "execution_count": null,
   "metadata": {},
   "outputs": [],
   "source": []
  }
 ],
 "metadata": {
  "kernelspec": {
   "display_name": "Python 3",
   "language": "python",
   "name": "python3"
  },
  "language_info": {
   "codemirror_mode": {
    "name": "ipython",
    "version": 3
   },
   "file_extension": ".py",
   "mimetype": "text/x-python",
   "name": "python",
   "nbconvert_exporter": "python",
   "pygments_lexer": "ipython3",
   "version": "3.7.4"
  }
 },
 "nbformat": 4,
 "nbformat_minor": 2
}
